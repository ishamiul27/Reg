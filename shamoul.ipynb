{
 "cells": [
  {
   "cell_type": "code",
   "execution_count": 1,
   "id": "161d3326",
   "metadata": {},
   "outputs": [],
   "source": [
    "import pandas as pd\n",
    "import numpy as np\n",
    "import matplotlib.pyplot as plt\n",
    "import sklearn \n",
    "import yfinance as yf\n",
    "from sklearn.linear_model import LinearRegression\n",
    "from sklearn.model_selection import train_test_split\n",
    "import numpy as np\n",
    "import pickle"
   ]
  },
  {
   "cell_type": "code",
   "execution_count": 6,
   "id": "f7197202",
   "metadata": {},
   "outputs": [
    {
     "data": {
      "text/plain": [
       "array([195.21469   , 268.18771316, 190.50675302, 241.95777857,\n",
       "       216.4004064 , 181.42716028, 174.0289736 , 150.1530075 ,\n",
       "       266.50630709, 214.04643791, 185.46253483, 164.61309965,\n",
       "       163.26797479, 203.28543911, 237.92240401, 160.57772509,\n",
       "       175.03781724, 263.47977618, 212.70131306, 258.7718392 ,\n",
       "       153.17953841, 261.4620889 , 215.05528155, 237.5861228 ,\n",
       "       184.11740998, 249.01968403, 244.31174706, 266.17002588,\n",
       "       256.0815895 , 156.20606933, 155.19722569, 254.40018344,\n",
       "       162.93169358, 174.70153603, 258.43555799, 209.67478215,\n",
       "       261.79837012, 235.23215431, 206.98453245, 230.86049855,\n",
       "       213.7101567 , 223.79859308, 232.54190461, 230.18793612,\n",
       "       176.7192233 , 263.14349497, 228.84281127, 210.34734457,\n",
       "       181.76344149, 252.04621495, 186.13509726])"
      ]
     },
     "execution_count": 6,
     "metadata": {},
     "output_type": "execute_result"
    }
   ],
   "source": [
    "\n",
    "\n",
    "# Fetch Tesla's historical stock data from Yahoo Finance\n",
    "tesla = yf.download('TSLA', start='2022-06-01', end='2023-06-01', progress=False)\n",
    "\n",
    "# Extract the 'Close' column as the closing prices\n",
    "closing_prices = tesla['Close']\n",
    "\n",
    "# Reset the index and rename the columns\n",
    "closing_prices = closing_prices.reset_index()\n",
    "closing_prices = closing_prices.rename(columns={'Date': 'date', 'Close': 'close'})\n",
    "\n",
    "# Sort the data by date in ascending order\n",
    "closing_prices = closing_prices.sort_values('date')\n",
    "\n",
    "# Use the last 12 months of data\n",
    "last_12_months_data = closing_prices.tail(252)\n",
    "\n",
    "# Extract the date and closing price columns\n",
    "dates = last_12_months_data['date']\n",
    "closing_prices = last_12_months_data['close']\n",
    "\n",
    "# Convert dates to numerical values (optional)\n",
    "dates = pd.to_datetime(dates).astype(int) // 10**9\n",
    "\n",
    "# Split the data into training a testing sets\n",
    "X_train, X_test, y_train, y_test = train_test_split(dates, closing_prices, test_size=0.2, random_state=42)\n",
    "\n",
    "# Create an instance of the Linear Regression model\n",
    "model = LinearRegression()\n",
    "\n",
    "# Fit the model to the training data\n",
    "model.fit(np.array(X_train).reshape(-1, 1), y_train)\n",
    "\n",
    "# Make predictions on the testing data\n",
    "predictions = model.predict(np.array(X_test).reshape(-1, 1))\n",
    "predictions\n",
    "\n"
   ]
  },
  {
   "cell_type": "code",
   "execution_count": 15,
   "id": "9b558686",
   "metadata": {},
   "outputs": [],
   "source": [
    "pickle.dump(model, open('model.pkl', 'wb'))\n",
    "\n",
    "pickled_model = pickle.load(open('model.pkl','rb'))\n"
   ]
  },
  {
   "cell_type": "code",
   "execution_count": 17,
   "id": "add540b4",
   "metadata": {},
   "outputs": [
    {
     "data": {
      "text/plain": [
       "array([195.21469   , 268.18771316, 190.50675302, 241.95777857,\n",
       "       216.4004064 , 181.42716028, 174.0289736 , 150.1530075 ,\n",
       "       266.50630709, 214.04643791, 185.46253483, 164.61309965,\n",
       "       163.26797479, 203.28543911, 237.92240401, 160.57772509,\n",
       "       175.03781724, 263.47977618, 212.70131306, 258.7718392 ,\n",
       "       153.17953841, 261.4620889 , 215.05528155, 237.5861228 ,\n",
       "       184.11740998, 249.01968403, 244.31174706, 266.17002588,\n",
       "       256.0815895 , 156.20606933, 155.19722569, 254.40018344,\n",
       "       162.93169358, 174.70153603, 258.43555799, 209.67478215,\n",
       "       261.79837012, 235.23215431, 206.98453245, 230.86049855,\n",
       "       213.7101567 , 223.79859308, 232.54190461, 230.18793612,\n",
       "       176.7192233 , 263.14349497, 228.84281127, 210.34734457,\n",
       "       181.76344149, 252.04621495, 186.13509726])"
      ]
     },
     "execution_count": 17,
     "metadata": {},
     "output_type": "execute_result"
    }
   ],
   "source": [
    "pickled_mod_predic = pickled_model.predict(np.array(X_test).reshape(-1, 1))\n",
    "pickled_mod_predic"
   ]
  },
  {
   "cell_type": "code",
   "execution_count": null,
   "id": "dacb58f4",
   "metadata": {},
   "outputs": [],
   "source": []
  }
 ],
 "metadata": {
  "kernelspec": {
   "display_name": "Python 3 (ipykernel)",
   "language": "python",
   "name": "python3"
  },
  "language_info": {
   "codemirror_mode": {
    "name": "ipython",
    "version": 3
   },
   "file_extension": ".py",
   "mimetype": "text/x-python",
   "name": "python",
   "nbconvert_exporter": "python",
   "pygments_lexer": "ipython3",
   "version": "3.11.4"
  }
 },
 "nbformat": 4,
 "nbformat_minor": 5
}
